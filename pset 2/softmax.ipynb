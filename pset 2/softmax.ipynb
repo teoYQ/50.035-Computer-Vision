{
 "cells": [
  {
   "cell_type": "markdown",
   "metadata": {},
   "source": [
    "# Softmax exercise\n",
    "\n",
    "*Complete and hand in this completed worksheet (including its outputs and any supporting code outside of the worksheet) with your assignment submission.*\n",
    "\n",
    "In this exercise, you will:\n",
    "\n",
    "- implement a fully-vectorized **loss function** for the Softmax classifier\n",
    "- implement the fully-vectorized expression for its **analytic gradient**\n",
    "- **check your implementation** with numerical gradient\n",
    "- use a validation set to **tune the learning rate and regularization** strength\n",
    "- **optimize** the loss function with **SGD**\n",
    "- **visualize** the final learned weights\n"
   ]
  },
  {
   "cell_type": "markdown",
   "metadata": {},
   "source": [
    "**Acknowledgement: This exercise is adapted from [Stanford CS231n](http://cs231n.stanford.edu/).**"
   ]
  },
  {
   "cell_type": "code",
   "execution_count": 1,
   "metadata": {},
   "outputs": [],
   "source": [
    "import random\n",
    "import numpy as np\n",
    "from data_utils import load_CIFAR10\n",
    "import matplotlib.pyplot as plt\n",
    "\n",
    "%matplotlib inline\n",
    "plt.rcParams['figure.figsize'] = (10.0, 8.0) # set default size of plots\n",
    "plt.rcParams['image.interpolation'] = 'nearest'\n",
    "plt.rcParams['image.cmap'] = 'gray'\n",
    "\n",
    "# for auto-reloading extenrnal modules\n",
    "# see http://stackoverflow.com/questions/1907993/autoreload-of-modules-in-ipython\n",
    "%load_ext autoreload\n",
    "%autoreload 2"
   ]
  },
  {
   "cell_type": "code",
   "execution_count": 2,
   "metadata": {},
   "outputs": [],
   "source": [
    "def rel_error(out, correct_out):\n",
    "    return np.sum(abs(out - correct_out) / (abs(out) + abs(correct_out)))"
   ]
  },
  {
   "cell_type": "code",
   "execution_count": 3,
   "metadata": {},
   "outputs": [
    {
     "name": "stdout",
     "output_type": "stream",
     "text": [
      "Train data shape:  (49000, 3073)\n",
      "Train labels shape:  (49000,)\n",
      "Validation data shape:  (1000, 3073)\n",
      "Validation labels shape:  (1000,)\n",
      "Test data shape:  (1000, 3073)\n",
      "Test labels shape:  (1000,)\n",
      "dev data shape:  (500, 3073)\n",
      "dev labels shape:  (500,)\n"
     ]
    }
   ],
   "source": [
    "def get_CIFAR10_data(num_training=49000, num_validation=1000, num_test=1000, num_dev=500):\n",
    "    \"\"\"\n",
    "    Load the CIFAR-10 dataset from disk and perform preprocessing to prepare\n",
    "    it for the linear classifier. These are the same steps as we used for the\n",
    "    Softmax, but condensed to a single function.  \n",
    "    \"\"\"\n",
    "    # Load the raw CIFAR-10 data\n",
    "    cifar10_dir = 'datasets/cifar-10-batches-py'\n",
    "    X_train, y_train, X_test, y_test = load_CIFAR10(cifar10_dir)\n",
    "\n",
    "    # subsample the data\n",
    "    mask = range(num_training, num_training + num_validation)\n",
    "    X_val = X_train[mask]\n",
    "    y_val = y_train[mask]\n",
    "    mask = range(num_training)\n",
    "    X_train = X_train[mask]\n",
    "    y_train = y_train[mask]\n",
    "    mask = range(num_test)\n",
    "    X_test = X_test[mask]\n",
    "    y_test = y_test[mask]\n",
    "    \n",
    "    # # We will also make a development set, which is a small subset of\n",
    "    # the training set.\n",
    "    mask = np.random.choice(num_training, num_dev, replace=False)\n",
    "    X_dev = X_train[mask]\n",
    "    y_dev = y_train[mask]\n",
    "\n",
    "    # Preprocessing: reshape the image data into rows\n",
    "    X_train = np.reshape(X_train, (X_train.shape[0], -1))\n",
    "    X_val = np.reshape(X_val, (X_val.shape[0], -1))\n",
    "    X_test = np.reshape(X_test, (X_test.shape[0], -1))\n",
    "    X_dev = np.reshape(X_dev, (X_dev.shape[0], -1))\n",
    "\n",
    "    # Normalize the data: subtract the mean image\n",
    "    mean_image = np.mean(X_train, axis = 0)\n",
    "    X_train -= mean_image\n",
    "    X_val -= mean_image\n",
    "    X_test -= mean_image\n",
    "    X_dev -= mean_image\n",
    "\n",
    "    # add bias dimension and transform into columns\n",
    "    X_train = np.hstack([X_train, np.ones((X_train.shape[0], 1))])\n",
    "    X_val = np.hstack([X_val, np.ones((X_val.shape[0], 1))])\n",
    "    X_test = np.hstack([X_test, np.ones((X_test.shape[0], 1))])\n",
    "    X_dev = np.hstack([X_dev, np.ones((X_dev.shape[0], 1))])\n",
    "\n",
    "    return X_train, y_train, X_val, y_val, X_test, y_test, X_dev, y_dev\n",
    "\n",
    "\n",
    "# Invoke the above function to get our data.\n",
    "X_train, y_train, X_val, y_val, X_test, y_test, X_dev, y_dev = get_CIFAR10_data()\n",
    "print('Train data shape: ', X_train.shape)\n",
    "print('Train labels shape: ', y_train.shape)\n",
    "print('Validation data shape: ', X_val.shape)\n",
    "print('Validation labels shape: ', y_val.shape)\n",
    "print('Test data shape: ', X_test.shape)\n",
    "print('Test labels shape: ', y_test.shape)\n",
    "print('dev data shape: ', X_dev.shape)\n",
    "print('dev labels shape: ', y_dev.shape)"
   ]
  },
  {
   "cell_type": "code",
   "execution_count": 4,
   "metadata": {},
   "outputs": [],
   "source": [
    "# Create one-hot vectors for label\n",
    "num_class = 10\n",
    "y_train_oh = np.zeros((y_train.shape[0], 10))\n",
    "y_train_oh[np.arange(y_train.shape[0]), y_train] = 1\n",
    "y_val_oh = np.zeros((y_val.shape[0], 10))\n",
    "y_val_oh[np.arange(y_val.shape[0]), y_val] = 1\n",
    "y_test_oh = np.zeros((y_test.shape[0], 10))\n",
    "y_test_oh[np.arange(y_test.shape[0]), y_test] = 1\n",
    "\n",
    "y_dev_oh = np.zeros((y_dev.shape[0], 10))\n",
    "y_dev_oh[np.arange(y_dev.shape[0]), y_dev] = 1"
   ]
  },
  {
   "cell_type": "markdown",
   "metadata": {},
   "source": [
    "# Regression as classifier\n",
    "The most simple and straightforward approach to learn a classifier is to map the input data (raw image values) to class label (one-hot vector). The loss function is defined as following: \n",
    "$$\\mathcal{L}=\\frac{1}{n}\\|\\mathbf{X}\\mathbf{W}-\\mathbf{y}\\|_F^2\\qquad\\qquad(1)$$\n",
    "Where:\n",
    "* $\\mathbf{W}\\in \\mathbb{R}^{(d+1)\\times C}$: Classifier weight\n",
    "* $\\mathbf{X}\\in \\mathbb{R}^{n\\times (d+1)}$: Dataset\n",
    "* $\\mathbf{y}\\in \\mathbb{R}^{n\\times C}$: Class label (one-hot vector)"
   ]
  },
  {
   "cell_type": "markdown",
   "metadata": {},
   "source": [
    "# Optimization\n",
    "Given the loss function (1), the next problem is how to solve the weight $\\mathbf{W}$. We now discuss 2 approaches: \n",
    " * Random search\n",
    " * Closed-form solution\n",
    "\n",
    "## Random search"
   ]
  },
  {
   "cell_type": "code",
   "execution_count": 5,
   "metadata": {},
   "outputs": [
    {
     "name": "stdout",
     "output_type": "stream",
     "text": [
      "in attempt 0 the loss was 32.628427, best 32.628427\n",
      "in attempt 1 the loss was 32.492841, best 32.492841\n",
      "in attempt 2 the loss was 31.156517, best 31.156517\n",
      "in attempt 3 the loss was 32.268883, best 31.156517\n",
      "in attempt 4 the loss was 31.748604, best 31.156517\n",
      "in attempt 5 the loss was 33.367435, best 31.156517\n",
      "in attempt 6 the loss was 31.505584, best 31.156517\n",
      "in attempt 7 the loss was 33.207009, best 31.156517\n",
      "in attempt 8 the loss was 33.512430, best 31.156517\n",
      "in attempt 9 the loss was 31.749838, best 31.156517\n",
      "in attempt 10 the loss was 32.126092, best 31.156517\n",
      "in attempt 11 the loss was 33.844152, best 31.156517\n",
      "in attempt 12 the loss was 32.301766, best 31.156517\n",
      "in attempt 13 the loss was 32.823289, best 31.156517\n",
      "in attempt 14 the loss was 31.536263, best 31.156517\n",
      "in attempt 15 the loss was 34.386384, best 31.156517\n",
      "in attempt 16 the loss was 32.618420, best 31.156517\n",
      "in attempt 17 the loss was 32.641627, best 31.156517\n",
      "in attempt 18 the loss was 33.926095, best 31.156517\n",
      "in attempt 19 the loss was 34.279297, best 31.156517\n",
      "in attempt 20 the loss was 35.190145, best 31.156517\n",
      "in attempt 21 the loss was 30.958749, best 30.958749\n",
      "in attempt 22 the loss was 35.393305, best 30.958749\n",
      "in attempt 23 the loss was 35.412124, best 30.958749\n",
      "in attempt 24 the loss was 35.183083, best 30.958749\n",
      "in attempt 25 the loss was 34.867540, best 30.958749\n",
      "in attempt 26 the loss was 33.233323, best 30.958749\n",
      "in attempt 27 the loss was 33.496066, best 30.958749\n",
      "in attempt 28 the loss was 35.644017, best 30.958749\n",
      "in attempt 29 the loss was 37.279419, best 30.958749\n",
      "in attempt 30 the loss was 34.313084, best 30.958749\n",
      "in attempt 31 the loss was 32.986616, best 30.958749\n",
      "in attempt 32 the loss was 34.185820, best 30.958749\n",
      "in attempt 33 the loss was 31.748504, best 30.958749\n",
      "in attempt 34 the loss was 32.983712, best 30.958749\n",
      "in attempt 35 the loss was 34.119849, best 30.958749\n",
      "in attempt 36 the loss was 33.229349, best 30.958749\n",
      "in attempt 37 the loss was 34.952004, best 30.958749\n",
      "in attempt 38 the loss was 34.553086, best 30.958749\n",
      "in attempt 39 the loss was 32.238703, best 30.958749\n",
      "in attempt 40 the loss was 32.908825, best 30.958749\n",
      "in attempt 41 the loss was 31.249694, best 30.958749\n",
      "in attempt 42 the loss was 33.417071, best 30.958749\n",
      "in attempt 43 the loss was 34.019155, best 30.958749\n",
      "in attempt 44 the loss was 35.254531, best 30.958749\n",
      "in attempt 45 the loss was 29.875557, best 29.875557\n",
      "in attempt 46 the loss was 35.118063, best 29.875557\n",
      "in attempt 47 the loss was 30.233965, best 29.875557\n",
      "in attempt 48 the loss was 31.581981, best 29.875557\n",
      "in attempt 49 the loss was 32.711031, best 29.875557\n",
      "in attempt 50 the loss was 33.998070, best 29.875557\n",
      "in attempt 51 the loss was 36.502718, best 29.875557\n",
      "in attempt 52 the loss was 34.504166, best 29.875557\n",
      "in attempt 53 the loss was 34.546957, best 29.875557\n",
      "in attempt 54 the loss was 34.201839, best 29.875557\n",
      "in attempt 55 the loss was 33.459195, best 29.875557\n",
      "in attempt 56 the loss was 35.657494, best 29.875557\n",
      "in attempt 57 the loss was 32.826200, best 29.875557\n",
      "in attempt 58 the loss was 33.178968, best 29.875557\n",
      "in attempt 59 the loss was 30.055186, best 29.875557\n",
      "in attempt 60 the loss was 35.052809, best 29.875557\n",
      "in attempt 61 the loss was 32.045778, best 29.875557\n",
      "in attempt 62 the loss was 35.225756, best 29.875557\n",
      "in attempt 63 the loss was 32.740085, best 29.875557\n",
      "in attempt 64 the loss was 31.160996, best 29.875557\n",
      "in attempt 65 the loss was 33.355110, best 29.875557\n",
      "in attempt 66 the loss was 32.004810, best 29.875557\n",
      "in attempt 67 the loss was 33.776486, best 29.875557\n",
      "in attempt 68 the loss was 36.251913, best 29.875557\n",
      "in attempt 69 the loss was 30.555386, best 29.875557\n",
      "in attempt 70 the loss was 32.155903, best 29.875557\n",
      "in attempt 71 the loss was 32.079077, best 29.875557\n",
      "in attempt 72 the loss was 36.610895, best 29.875557\n",
      "in attempt 73 the loss was 32.712617, best 29.875557\n",
      "in attempt 74 the loss was 31.756308, best 29.875557\n",
      "in attempt 75 the loss was 33.209746, best 29.875557\n",
      "in attempt 76 the loss was 36.693880, best 29.875557\n",
      "in attempt 77 the loss was 34.868016, best 29.875557\n",
      "in attempt 78 the loss was 35.293236, best 29.875557\n",
      "in attempt 79 the loss was 35.556140, best 29.875557\n",
      "in attempt 80 the loss was 36.095836, best 29.875557\n",
      "in attempt 81 the loss was 33.183685, best 29.875557\n",
      "in attempt 82 the loss was 33.723221, best 29.875557\n",
      "in attempt 83 the loss was 32.408446, best 29.875557\n",
      "in attempt 84 the loss was 32.497514, best 29.875557\n",
      "in attempt 85 the loss was 30.925446, best 29.875557\n",
      "in attempt 86 the loss was 31.778831, best 29.875557\n",
      "in attempt 87 the loss was 35.542841, best 29.875557\n",
      "in attempt 88 the loss was 32.979811, best 29.875557\n",
      "in attempt 89 the loss was 32.690423, best 29.875557\n",
      "in attempt 90 the loss was 32.398073, best 29.875557\n",
      "in attempt 91 the loss was 32.402738, best 29.875557\n",
      "in attempt 92 the loss was 33.102105, best 29.875557\n",
      "in attempt 93 the loss was 32.872350, best 29.875557\n",
      "in attempt 94 the loss was 32.739195, best 29.875557\n",
      "in attempt 95 the loss was 34.182929, best 29.875557\n",
      "in attempt 96 the loss was 34.761893, best 29.875557\n",
      "in attempt 97 the loss was 33.591154, best 29.875557\n",
      "in attempt 98 the loss was 31.911119, best 29.875557\n",
      "in attempt 99 the loss was 34.975511, best 29.875557\n"
     ]
    }
   ],
   "source": [
    "bestloss = float('inf')\n",
    "for num in range(100):\n",
    "    W = np.random.randn(3073, 10) * 0.0001\n",
    "    loss = np.linalg.norm(X_dev.dot(W) - y_dev_oh)\n",
    "    if (loss < bestloss):\n",
    "        bestloss = loss\n",
    "        bestW = W\n",
    "    print('in attempt %d the loss was %f, best %f' % (num, loss, bestloss))"
   ]
  },
  {
   "cell_type": "code",
   "execution_count": 6,
   "metadata": {},
   "outputs": [
    {
     "name": "stdout",
     "output_type": "stream",
     "text": [
      "Accuracy on train set:  8.0\n",
      "Accuracy on test set:  10.100000000000001\n"
     ]
    }
   ],
   "source": [
    "# How bestW perform:\n",
    "print('Accuracy on train set: ', np.sum(np.argmin(np.abs(1 - X_dev.dot(W)), axis=1) == y_dev).astype(np.float32)/y_dev.shape[0]*100)\n",
    "print('Accuracy on test set: ', np.sum(np.argmin(np.abs(1 - X_test.dot(W)), axis=1) == y_test).astype(np.float32)/y_test.shape[0]*100)"
   ]
  },
  {
   "cell_type": "markdown",
   "metadata": {},
   "source": [
    "You can clearly see that the performance is very low, almost at the random level."
   ]
  },
  {
   "cell_type": "markdown",
   "metadata": {},
   "source": [
    "## Closed-form solution\n",
    "The closed-form solution is achieved by:\n",
    "$$\\frac{\\partial\\mathcal{L}}{\\partial \\mathbf{W}}=\\frac{2}{n}\\mathbf{X}^T(\\mathbf{X}\\mathbf{W}-\\mathbf{y})=0$$\n",
    "\n",
    "$$\\Leftrightarrow\\mathbf{W}^\\ast=(\\mathbf{X}^T\\mathbf{X})^{-1}\\mathbf{X}^T\\mathbf{y}$$"
   ]
  },
  {
   "cell_type": "code",
   "execution_count": 17,
   "metadata": {},
   "outputs": [],
   "source": [
    "################################################################################\n",
    "# TODO:                                                                        #\n",
    "# Implement the closed-form solution of the weight W.                          #\n",
    "#xtx_inv =  np.linalg.inv(np.dot(X_train,np.transpose(X_train)))\n",
    "#xty = np.dot(X_train.T,y_train)\n",
    "xtx_inv = (np.linalg.inv(np.dot((X_train.T),X_train)))\n",
    "xty = np.dot(X_train.T,y_train_oh)\n",
    "W = np.dot(xtx_inv,xty)\n",
    "################################################################################\n",
    "################################################################################\n",
    "#                              END OF YOUR CODE                                #\n",
    "################################################################################"
   ]
  },
  {
   "cell_type": "code",
   "execution_count": 18,
   "metadata": {},
   "outputs": [
    {
     "name": "stdout",
     "output_type": "stream",
     "text": [
      "Train set accuracy:  51.163265306122454\n",
      "Test set accuracy:  36.199999999999996\n"
     ]
    }
   ],
   "source": [
    "# Check accuracy:\n",
    "print('Train set accuracy: ', np.sum(np.argmin(np.abs(1 - X_train.dot(W)), axis=1) == y_train).astype(np.float32)/y_train.shape[0]*100)\n",
    "print('Test set accuracy: ', np.sum(np.argmin(np.abs(1 - X_test.dot(W)), axis=1) == y_test).astype(np.float32)/y_test.shape[0]*100)"
   ]
  },
  {
   "cell_type": "markdown",
   "metadata": {},
   "source": [
    "Now, you can see that the performance is much better."
   ]
  },
  {
   "cell_type": "markdown",
   "metadata": {},
   "source": [
    "## Regularization\n",
    "A simple way to improve performance is to include the L2-regularization penalty.\n",
    "$$\\mathcal{L}=\\frac{1}{n}\\|\\mathbf{X}\\mathbf{W}-\\mathbf{y}\\|_F^2 +\\lambda \\|\\mathbf{W}\\|_F^2 \\qquad\\qquad(2)$$\n",
    "The closed-form solution now is: \n",
    "$$\\Leftrightarrow\\mathbf{W}^\\ast=(\\mathbf{X}^T\\mathbf{X}+\\lambda n\\mathbf{I})^{-1}\\mathbf{X}^T\\mathbf{y}$$"
   ]
  },
  {
   "cell_type": "code",
   "execution_count": 21,
   "metadata": {},
   "outputs": [
    {
     "ename": "MemoryError",
     "evalue": "Unable to allocate 17.9 GiB for an array with shape (49000, 49000) and data type float64",
     "output_type": "error",
     "traceback": [
      "\u001b[0;31m---------------------------------------------------------------------------\u001b[0m",
      "\u001b[0;31mMemoryError\u001b[0m                               Traceback (most recent call last)",
      "\u001b[0;32m<ipython-input-21-b6d7904d4193>\u001b[0m in \u001b[0;36m<module>\u001b[0;34m\u001b[0m\n\u001b[1;32m     12\u001b[0m     \u001b[0mxtx\u001b[0m \u001b[0;34m=\u001b[0m \u001b[0;34m(\u001b[0m\u001b[0mnp\u001b[0m\u001b[0;34m.\u001b[0m\u001b[0mdot\u001b[0m\u001b[0;34m(\u001b[0m\u001b[0;34m(\u001b[0m\u001b[0mX_train\u001b[0m\u001b[0;34m.\u001b[0m\u001b[0mT\u001b[0m\u001b[0;34m)\u001b[0m\u001b[0;34m,\u001b[0m\u001b[0mX_train\u001b[0m\u001b[0;34m)\u001b[0m\u001b[0;34m)\u001b[0m\u001b[0;34m\u001b[0m\u001b[0;34m\u001b[0m\u001b[0m\n\u001b[1;32m     13\u001b[0m     \u001b[0mln\u001b[0m \u001b[0;34m=\u001b[0m \u001b[0ml\u001b[0m\u001b[0;34m*\u001b[0m\u001b[0mn\u001b[0m\u001b[0;34m\u001b[0m\u001b[0;34m\u001b[0m\u001b[0m\n\u001b[0;32m---> 14\u001b[0;31m     \u001b[0mxtx_plus\u001b[0m \u001b[0;34m=\u001b[0m \u001b[0mnp\u001b[0m\u001b[0;34m.\u001b[0m\u001b[0msum\u001b[0m\u001b[0;34m(\u001b[0m\u001b[0mxtx\u001b[0m\u001b[0;34m,\u001b[0m \u001b[0mnp\u001b[0m\u001b[0;34m.\u001b[0m\u001b[0mmultiply\u001b[0m\u001b[0;34m(\u001b[0m\u001b[0mln\u001b[0m\u001b[0;34m,\u001b[0m\u001b[0mnp\u001b[0m\u001b[0;34m.\u001b[0m\u001b[0midentity\u001b[0m\u001b[0;34m(\u001b[0m\u001b[0mn\u001b[0m\u001b[0;34m)\u001b[0m\u001b[0;34m)\u001b[0m\u001b[0;34m)\u001b[0m\u001b[0;34m\u001b[0m\u001b[0;34m\u001b[0m\u001b[0m\n\u001b[0m\u001b[1;32m     15\u001b[0m     \u001b[0mxtx_inv\u001b[0m \u001b[0;34m=\u001b[0m \u001b[0mnp\u001b[0m\u001b[0;34m.\u001b[0m\u001b[0mlinalg\u001b[0m\u001b[0;34m.\u001b[0m\u001b[0minv\u001b[0m\u001b[0;34m(\u001b[0m\u001b[0mxtx_plus\u001b[0m\u001b[0;34m)\u001b[0m\u001b[0;34m\u001b[0m\u001b[0;34m\u001b[0m\u001b[0m\n\u001b[1;32m     16\u001b[0m     \u001b[0mxty\u001b[0m \u001b[0;34m=\u001b[0m \u001b[0mnp\u001b[0m\u001b[0;34m.\u001b[0m\u001b[0mdot\u001b[0m\u001b[0;34m(\u001b[0m\u001b[0mX_train\u001b[0m\u001b[0;34m.\u001b[0m\u001b[0mT\u001b[0m\u001b[0;34m,\u001b[0m\u001b[0my_train_oh\u001b[0m\u001b[0;34m)\u001b[0m\u001b[0;34m\u001b[0m\u001b[0;34m\u001b[0m\u001b[0m\n",
      "\u001b[0;32m~/.local/lib/python3.6/site-packages/numpy/core/numeric.py\u001b[0m in \u001b[0;36midentity\u001b[0;34m(n, dtype)\u001b[0m\n\u001b[1;32m   2082\u001b[0m     \"\"\"\n\u001b[1;32m   2083\u001b[0m     \u001b[0;32mfrom\u001b[0m \u001b[0mnumpy\u001b[0m \u001b[0;32mimport\u001b[0m \u001b[0meye\u001b[0m\u001b[0;34m\u001b[0m\u001b[0;34m\u001b[0m\u001b[0m\n\u001b[0;32m-> 2084\u001b[0;31m     \u001b[0;32mreturn\u001b[0m \u001b[0meye\u001b[0m\u001b[0;34m(\u001b[0m\u001b[0mn\u001b[0m\u001b[0;34m,\u001b[0m \u001b[0mdtype\u001b[0m\u001b[0;34m=\u001b[0m\u001b[0mdtype\u001b[0m\u001b[0;34m)\u001b[0m\u001b[0;34m\u001b[0m\u001b[0;34m\u001b[0m\u001b[0m\n\u001b[0m\u001b[1;32m   2085\u001b[0m \u001b[0;34m\u001b[0m\u001b[0m\n\u001b[1;32m   2086\u001b[0m \u001b[0;34m\u001b[0m\u001b[0m\n",
      "\u001b[0;32m~/.local/lib/python3.6/site-packages/numpy/lib/twodim_base.py\u001b[0m in \u001b[0;36meye\u001b[0;34m(N, M, k, dtype, order)\u001b[0m\n\u001b[1;32m    199\u001b[0m     \u001b[0;32mif\u001b[0m \u001b[0mM\u001b[0m \u001b[0;32mis\u001b[0m \u001b[0;32mNone\u001b[0m\u001b[0;34m:\u001b[0m\u001b[0;34m\u001b[0m\u001b[0;34m\u001b[0m\u001b[0m\n\u001b[1;32m    200\u001b[0m         \u001b[0mM\u001b[0m \u001b[0;34m=\u001b[0m \u001b[0mN\u001b[0m\u001b[0;34m\u001b[0m\u001b[0;34m\u001b[0m\u001b[0m\n\u001b[0;32m--> 201\u001b[0;31m     \u001b[0mm\u001b[0m \u001b[0;34m=\u001b[0m \u001b[0mzeros\u001b[0m\u001b[0;34m(\u001b[0m\u001b[0;34m(\u001b[0m\u001b[0mN\u001b[0m\u001b[0;34m,\u001b[0m \u001b[0mM\u001b[0m\u001b[0;34m)\u001b[0m\u001b[0;34m,\u001b[0m \u001b[0mdtype\u001b[0m\u001b[0;34m=\u001b[0m\u001b[0mdtype\u001b[0m\u001b[0;34m,\u001b[0m \u001b[0morder\u001b[0m\u001b[0;34m=\u001b[0m\u001b[0morder\u001b[0m\u001b[0;34m)\u001b[0m\u001b[0;34m\u001b[0m\u001b[0;34m\u001b[0m\u001b[0m\n\u001b[0m\u001b[1;32m    202\u001b[0m     \u001b[0;32mif\u001b[0m \u001b[0mk\u001b[0m \u001b[0;34m>=\u001b[0m \u001b[0mM\u001b[0m\u001b[0;34m:\u001b[0m\u001b[0;34m\u001b[0m\u001b[0;34m\u001b[0m\u001b[0m\n\u001b[1;32m    203\u001b[0m         \u001b[0;32mreturn\u001b[0m \u001b[0mm\u001b[0m\u001b[0;34m\u001b[0m\u001b[0;34m\u001b[0m\u001b[0m\n",
      "\u001b[0;31mMemoryError\u001b[0m: Unable to allocate 17.9 GiB for an array with shape (49000, 49000) and data type float64"
     ]
    }
   ],
   "source": [
    "# try several values of lambda to see how it helps:\n",
    "lambdas = [0.01, 0.1, 1, 10, 100, 1000, 10000, 100000]\n",
    "train_acc = np.zeros((len(lambdas)))\n",
    "test_acc = np.zeros((len(lambdas)))\n",
    "for i in range(len(lambdas)):\n",
    "    l = lambdas[i]\n",
    "    n,d = X_train.shape[0], X_train.shape[1]\n",
    "    ################################################################################\n",
    "    # TODO:                                                                        #\n",
    "    # Implement the closed-form solution of the weight W with regularization.      #\n",
    "    ################################################################################\n",
    "    xtx = (np.dot((X_train.T),X_train))\n",
    "    ln = l*n\n",
    "    xtx_plus = np.sum(xtx, np.multiply(ln,np.identity(n)))\n",
    "    xtx_inv = np.linalg.inv(xtx_plus)\n",
    "    xty = np.dot(X_train.T,y_train_oh)\n",
    "    W = np.dot(xtx_inv,xty)\n",
    "    ################################################################################\n",
    "    #                              END OF YOUR CODE                                #\n",
    "    ################################################################################\n",
    "    train_acc[i] = np.sum(np.argmin(np.abs(1 - X_train.dot(W)), axis=1) == y_train).astype(np.float32)/y_train.shape[0]*100\n",
    "    test_acc[i]  = np.sum(np.argmin(np.abs(1 - X_test.dot(W)), axis=1) == y_test).astype(np.float32)/y_test.shape[0]*100"
   ]
  },
  {
   "cell_type": "code",
   "execution_count": 10,
   "metadata": {
    "collapsed": true
   },
   "outputs": [
    {
     "data": {
      "image/png": "[encoded data removed]",
      "text/plain": [
       "<Figure size 720x576 with 1 Axes>"
      ]
     },
     "metadata": {
      "needs_background": "light"
     },
     "output_type": "display_data"
    }
   ],
   "source": [
    "plt.semilogx(lambdas, train_acc, 'r', label=\"Training accuracy\")\n",
    "plt.semilogx(lambdas, test_acc, 'g', label=\"Testing accuracy\")\n",
    "\n",
    "plt.legend()\n",
    "plt.grid(True)\n",
    "plt.show()"
   ]
  },
  {
   "cell_type": "markdown",
   "metadata": {},
   "source": [
    "**Question:** Try to explain why the performances on the training and test set have such behaviors as we change the value of $\\lambda$."
   ]
  },
  {
   "cell_type": "markdown",
   "metadata": {},
   "source": [
    "**Your answer:** Fill in here"
   ]
  },
  {
   "cell_type": "markdown",
   "metadata": {},
   "source": [
    "## Softmax Classifier\n",
    "\n",
    "The predicted probability for the $j$-th class given a sample vector $x$ and a weight $W$ is:\n",
    "\n",
    "$$\\displaystyle{P(y=j\\mid x)=\\frac{e^{-xw_j}}{\\sum\\limits_{c=1}^{C}e^{-xw_c}}}$$ \n",
    "\n",
    "![softmax](imgs/softmax.png \"Example of Softmax\")\n",
    "\n",
    "Your code for this section will all be written inside **classifiers/softmax.py**. \n"
   ]
  },
  {
   "cell_type": "code",
   "execution_count": 11,
   "metadata": {
    "scrolled": true
   },
   "outputs": [
    {
     "name": "stdout",
     "output_type": "stream",
     "text": [
      "loss: 0.000000\n",
      "sanity check: 2.302585\n"
     ]
    }
   ],
   "source": [
    "# First implement the naive softmax loss function with nested loops.\n",
    "# Open the file classifiers/softmax.py and implement the\n",
    "# softmax_loss_naive function.\n",
    "\n",
    "from classifiers.softmax import softmax_loss_naive\n",
    "import time\n",
    "\n",
    "# Generate a random softmax weight matrix and use it to compute the loss.\n",
    "W = np.random.randn(3073, 10) * 0.0001\n",
    "loss, grad = softmax_loss_naive(W, X_dev, y_dev, 0.0)\n",
    "\n",
    "# As a rough sanity check, our loss should be something close to -log(0.1).\n",
    "print('loss: %f' % loss)\n",
    "print('sanity check: %f' % (-np.log(0.1)))"
   ]
  },
  {
   "cell_type": "markdown",
   "metadata": {},
   "source": [
    "**Question:** Why do we expect our loss to be close to -log(0.1)? Explain briefly.**"
   ]
  },
  {
   "cell_type": "markdown",
   "metadata": {},
   "source": [
    "**Your answer:** Fill in here"
   ]
  },
  {
   "cell_type": "markdown",
   "metadata": {},
   "source": [
    "# Optimization\n",
    "\n",
    "\n",
    "## Random search"
   ]
  },
  {
   "cell_type": "code",
   "execution_count": 12,
   "metadata": {
    "collapsed": true
   },
   "outputs": [
    {
     "name": "stdout",
     "output_type": "stream",
     "text": [
      "in attempt 0 the loss was 0.000000, best 0.000000\n",
      "in attempt 1 the loss was 0.000000, best 0.000000\n",
      "in attempt 2 the loss was 0.000000, best 0.000000\n",
      "in attempt 3 the loss was 0.000000, best 0.000000\n",
      "in attempt 4 the loss was 0.000000, best 0.000000\n",
      "in attempt 5 the loss was 0.000000, best 0.000000\n",
      "in attempt 6 the loss was 0.000000, best 0.000000\n",
      "in attempt 7 the loss was 0.000000, best 0.000000\n",
      "in attempt 8 the loss was 0.000000, best 0.000000\n",
      "in attempt 9 the loss was 0.000000, best 0.000000\n",
      "in attempt 10 the loss was 0.000000, best 0.000000\n",
      "in attempt 11 the loss was 0.000000, best 0.000000\n",
      "in attempt 12 the loss was 0.000000, best 0.000000\n",
      "in attempt 13 the loss was 0.000000, best 0.000000\n",
      "in attempt 14 the loss was 0.000000, best 0.000000\n",
      "in attempt 15 the loss was 0.000000, best 0.000000\n",
      "in attempt 16 the loss was 0.000000, best 0.000000\n",
      "in attempt 17 the loss was 0.000000, best 0.000000\n",
      "in attempt 18 the loss was 0.000000, best 0.000000\n",
      "in attempt 19 the loss was 0.000000, best 0.000000\n",
      "in attempt 20 the loss was 0.000000, best 0.000000\n",
      "in attempt 21 the loss was 0.000000, best 0.000000\n",
      "in attempt 22 the loss was 0.000000, best 0.000000\n",
      "in attempt 23 the loss was 0.000000, best 0.000000\n",
      "in attempt 24 the loss was 0.000000, best 0.000000\n",
      "in attempt 25 the loss was 0.000000, best 0.000000\n",
      "in attempt 26 the loss was 0.000000, best 0.000000\n",
      "in attempt 27 the loss was 0.000000, best 0.000000\n",
      "in attempt 28 the loss was 0.000000, best 0.000000\n",
      "in attempt 29 the loss was 0.000000, best 0.000000\n",
      "in attempt 30 the loss was 0.000000, best 0.000000\n",
      "in attempt 31 the loss was 0.000000, best 0.000000\n",
      "in attempt 32 the loss was 0.000000, best 0.000000\n",
      "in attempt 33 the loss was 0.000000, best 0.000000\n",
      "in attempt 34 the loss was 0.000000, best 0.000000\n",
      "in attempt 35 the loss was 0.000000, best 0.000000\n",
      "in attempt 36 the loss was 0.000000, best 0.000000\n",
      "in attempt 37 the loss was 0.000000, best 0.000000\n",
      "in attempt 38 the loss was 0.000000, best 0.000000\n",
      "in attempt 39 the loss was 0.000000, best 0.000000\n",
      "in attempt 40 the loss was 0.000000, best 0.000000\n",
      "in attempt 41 the loss was 0.000000, best 0.000000\n",
      "in attempt 42 the loss was 0.000000, best 0.000000\n",
      "in attempt 43 the loss was 0.000000, best 0.000000\n",
      "in attempt 44 the loss was 0.000000, best 0.000000\n",
      "in attempt 45 the loss was 0.000000, best 0.000000\n",
      "in attempt 46 the loss was 0.000000, best 0.000000\n",
      "in attempt 47 the loss was 0.000000, best 0.000000\n",
      "in attempt 48 the loss was 0.000000, best 0.000000\n",
      "in attempt 49 the loss was 0.000000, best 0.000000\n",
      "in attempt 50 the loss was 0.000000, best 0.000000\n",
      "in attempt 51 the loss was 0.000000, best 0.000000\n",
      "in attempt 52 the loss was 0.000000, best 0.000000\n",
      "in attempt 53 the loss was 0.000000, best 0.000000\n",
      "in attempt 54 the loss was 0.000000, best 0.000000\n",
      "in attempt 55 the loss was 0.000000, best 0.000000\n",
      "in attempt 56 the loss was 0.000000, best 0.000000\n",
      "in attempt 57 the loss was 0.000000, best 0.000000\n",
      "in attempt 58 the loss was 0.000000, best 0.000000\n",
      "in attempt 59 the loss was 0.000000, best 0.000000\n",
      "in attempt 60 the loss was 0.000000, best 0.000000\n",
      "in attempt 61 the loss was 0.000000, best 0.000000\n",
      "in attempt 62 the loss was 0.000000, best 0.000000\n",
      "in attempt 63 the loss was 0.000000, best 0.000000\n",
      "in attempt 64 the loss was 0.000000, best 0.000000\n",
      "in attempt 65 the loss was 0.000000, best 0.000000\n",
      "in attempt 66 the loss was 0.000000, best 0.000000\n",
      "in attempt 67 the loss was 0.000000, best 0.000000\n",
      "in attempt 68 the loss was 0.000000, best 0.000000\n",
      "in attempt 69 the loss was 0.000000, best 0.000000\n",
      "in attempt 70 the loss was 0.000000, best 0.000000\n",
      "in attempt 71 the loss was 0.000000, best 0.000000\n",
      "in attempt 72 the loss was 0.000000, best 0.000000\n",
      "in attempt 73 the loss was 0.000000, best 0.000000\n",
      "in attempt 74 the loss was 0.000000, best 0.000000\n",
      "in attempt 75 the loss was 0.000000, best 0.000000\n",
      "in attempt 76 the loss was 0.000000, best 0.000000\n",
      "in attempt 77 the loss was 0.000000, best 0.000000\n",
      "in attempt 78 the loss was 0.000000, best 0.000000\n",
      "in attempt 79 the loss was 0.000000, best 0.000000\n",
      "in attempt 80 the loss was 0.000000, best 0.000000\n",
      "in attempt 81 the loss was 0.000000, best 0.000000\n",
      "in attempt 82 the loss was 0.000000, best 0.000000\n",
      "in attempt 83 the loss was 0.000000, best 0.000000\n",
      "in attempt 84 the loss was 0.000000, best 0.000000\n",
      "in attempt 85 the loss was 0.000000, best 0.000000\n",
      "in attempt 86 the loss was 0.000000, best 0.000000\n",
      "in attempt 87 the loss was 0.000000, best 0.000000\n",
      "in attempt 88 the loss was 0.000000, best 0.000000\n",
      "in attempt 89 the loss was 0.000000, best 0.000000\n",
      "in attempt 90 the loss was 0.000000, best 0.000000\n",
      "in attempt 91 the loss was 0.000000, best 0.000000\n",
      "in attempt 92 the loss was 0.000000, best 0.000000\n",
      "in attempt 93 the loss was 0.000000, best 0.000000\n",
      "in attempt 94 the loss was 0.000000, best 0.000000\n",
      "in attempt 95 the loss was 0.000000, best 0.000000\n",
      "in attempt 96 the loss was 0.000000, best 0.000000\n",
      "in attempt 97 the loss was 0.000000, best 0.000000\n",
      "in attempt 98 the loss was 0.000000, best 0.000000\n",
      "in attempt 99 the loss was 0.000000, best 0.000000\n"
     ]
    }
   ],
   "source": [
    "bestloss = float('inf')\n",
    "for num in range(100):\n",
    "    W = np.random.randn(3073, 10) * 0.0001\n",
    "    loss, _ = softmax_loss_naive(W, X_dev, y_dev, 0.0)\n",
    "    if (loss < bestloss):\n",
    "        bestloss = loss\n",
    "        bestW = W\n",
    "    print('in attempt %d the loss was %f, best %f' % (num, loss, bestloss))"
   ]
  },
  {
   "cell_type": "code",
   "execution_count": 13,
   "metadata": {
    "collapsed": true
   },
   "outputs": [
    {
     "name": "stdout",
     "output_type": "stream",
     "text": [
      "Accuracy on train set 0.096204\n",
      "Accuracy on test set 0.096000\n"
     ]
    }
   ],
   "source": [
    "# How bestW perform on trainset\n",
    "scores = X_train.dot(bestW)\n",
    "y_pred = np.argmax(scores, axis=1)\n",
    "print('Accuracy on train set %f' % np.mean(y_pred == y_train))\n",
    "\n",
    "# evaluate performance of test set\n",
    "scores = X_test.dot(bestW)\n",
    "y_pred = np.argmax(scores, axis=1)\n",
    "print('Accuracy on test set %f' % np.mean(y_pred == y_test))"
   ]
  },
  {
   "cell_type": "markdown",
   "metadata": {},
   "source": [
    "Compare the performance when using random search with *regression classifier* and *softmax classifier*. You can see how much useful the softmax classifier is."
   ]
  },
  {
   "cell_type": "markdown",
   "metadata": {},
   "source": [
    "## Stochastic Gradient descent\n",
    "Even though it is possible to achieve closed-form solution with softmax classifier, it would be more complicated. In fact, we could achieve very good results with gradient descent approach. Additionally, in case of very large dataset, it is impossible to load the whole dataset into the memory. Gradient descent can help to optimize the loss function in batch. \n",
    "\n",
    "$$\\mathbf{W}^{t+1}=\\mathbf{W}^{t}−\\alpha \\frac{\\partial\\mathcal{L(\\mathbf{x};\\mathbf{W}^{t})}}{\\partial\\mathbf{W}^{t}}$$\n",
    "\n",
    "Where $\\alpha$ is the learning rate, $\\mathcal{L}$ is a loss function, and $\\mathbf{x}$ is a batch of training dataset."
   ]
  },
  {
   "cell_type": "code",
   "execution_count": 14,
   "metadata": {
    "collapsed": true
   },
   "outputs": [
    {
     "name": "stdout",
     "output_type": "stream",
     "text": [
      "numerical: 0.000000 analytic: 0.000000, relative error: nan\n",
      "numerical: 0.000000 analytic: 0.000000, relative error: nan\n",
      "numerical: 0.000000 analytic: 0.000000, relative error: nan\n",
      "numerical: 0.000000 analytic: 0.000000, relative error: nan\n",
      "numerical: 0.000000 analytic: 0.000000, relative error: nan\n",
      "numerical: 0.000000 analytic: 0.000000, relative error: nan\n",
      "numerical: 0.000000 analytic: 0.000000, relative error: nan\n",
      "numerical: 0.000000 analytic: 0.000000, relative error: nan\n",
      "numerical: 0.000000 analytic: 0.000000, relative error: nan\n",
      "numerical: 0.000000 analytic: 0.000000, relative error: nan\n",
      "numerical: 0.000000 analytic: 0.000000, relative error: nan\n",
      "numerical: 0.000000 analytic: 0.000000, relative error: nan\n",
      "numerical: 0.000000 analytic: 0.000000, relative error: nan\n",
      "numerical: 0.000000 analytic: 0.000000, relative error: nan\n",
      "numerical: 0.000000 analytic: 0.000000, relative error: nan\n",
      "numerical: 0.000000 analytic: 0.000000, relative error: nan\n",
      "numerical: 0.000000 analytic: 0.000000, relative error: nan\n",
      "numerical: 0.000000 analytic: 0.000000, relative error: nan\n",
      "numerical: 0.000000 analytic: 0.000000, relative error: nan\n",
      "numerical: 0.000000 analytic: 0.000000, relative error: nan\n"
     ]
    },
    {
     "name": "stderr",
     "output_type": "stream",
     "text": [
      "C:\\Users\\Kami\\Desktop\\CV_lab\\sharewithstudents\\Lab1-Week2\\gradient_check.py:125: RuntimeWarning: invalid value encountered in double_scalars\n",
      "  rel_error = abs(grad_numerical - grad_analytic) / (abs(grad_numerical) + abs(grad_analytic))\n"
     ]
    }
   ],
   "source": [
    "# Complete the implementation of softmax_loss_naive and implement a (naive)\n",
    "# version of the gradient that uses nested loops.\n",
    "loss, grad = softmax_loss_naive(W, X_dev, y_dev, 0.0)\n",
    "\n",
    "# Use numeric gradient checking as a debugging tool.\n",
    "# The numeric gradient should be close to the analytic gradient.\n",
    "from gradient_check import grad_check_sparse\n",
    "f = lambda w: softmax_loss_naive(w, X_dev, y_dev, 0.0)[0]\n",
    "grad_numerical = grad_check_sparse(f, W, grad, 10)\n",
    "\n",
    "# gradient check with regularization\n",
    "loss, grad = softmax_loss_naive(W, X_dev, y_dev, 1e2)\n",
    "f = lambda w: softmax_loss_naive(w, X_dev, y_dev, 1e2)[0]\n",
    "grad_numerical = grad_check_sparse(f, W, grad, 10)"
   ]
  },
  {
   "cell_type": "code",
   "execution_count": 15,
   "metadata": {
    "collapsed": true
   },
   "outputs": [
    {
     "name": "stdout",
     "output_type": "stream",
     "text": [
      "naive loss: 0.000000e+00 computed in 0.000000s\n",
      "vectorized loss: 0.000000e+00 computed in 0.000000s\n",
      "Loss difference: 0.000000\n",
      "Gradient difference: 0.000000\n"
     ]
    }
   ],
   "source": [
    "# Now that we have a naive implementation of the softmax loss function and its gradient,\n",
    "# implement a vectorized version in softmax_loss_vectorized.\n",
    "# The two versions should compute the same results, but the vectorized version should be\n",
    "# much faster.\n",
    "tic = time.time()\n",
    "loss_naive, grad_naive = softmax_loss_naive(W, X_dev, y_dev, 0.00001)\n",
    "toc = time.time()\n",
    "print('naive loss: %e computed in %fs' % (loss_naive, toc - tic))\n",
    "\n",
    "from classifiers.softmax import softmax_loss_vectorized\n",
    "tic = time.time()\n",
    "loss_vectorized, grad_vectorized = softmax_loss_vectorized(W, X_dev, y_dev, 0.00001)\n",
    "toc = time.time()\n",
    "print('vectorized loss: %e computed in %fs' % (loss_vectorized, toc - tic))\n",
    "\n",
    "# We use the Frobenius norm to compare the two versions\n",
    "# of the gradient.\n",
    "grad_difference = np.linalg.norm(grad_naive - grad_vectorized, ord='fro')\n",
    "print('Loss difference: %f' % np.abs(loss_naive - loss_vectorized))\n",
    "print('Gradient difference: %f' % grad_difference)"
   ]
  },
  {
   "cell_type": "code",
   "execution_count": 16,
   "metadata": {
    "collapsed": true
   },
   "outputs": [
    {
     "name": "stdout",
     "output_type": "stream",
     "text": [
      "iteration 0 / 1500: loss 0.000000\n",
      "iteration 100 / 1500: loss 0.000000\n",
      "iteration 200 / 1500: loss 0.000000\n",
      "iteration 300 / 1500: loss 0.000000\n",
      "iteration 400 / 1500: loss 0.000000\n",
      "iteration 500 / 1500: loss 0.000000\n",
      "iteration 600 / 1500: loss 0.000000\n",
      "iteration 700 / 1500: loss 0.000000\n",
      "iteration 800 / 1500: loss 0.000000\n",
      "iteration 900 / 1500: loss 0.000000\n",
      "iteration 1000 / 1500: loss 0.000000\n",
      "iteration 1100 / 1500: loss 0.000000\n",
      "iteration 1200 / 1500: loss 0.000000\n",
      "iteration 1300 / 1500: loss 0.000000\n",
      "iteration 1400 / 1500: loss 0.000000\n",
      "That took 0.017988s\n"
     ]
    }
   ],
   "source": [
    "from classifiers.linear_classifier import *\n",
    "\n",
    "classifier = Softmax()\n",
    "tic = time.time()\n",
    "loss_hist = classifier.train(X_train, y_train, learning_rate=1e-7, reg=5e4,\n",
    "                                  num_iters=1500, verbose=True)\n",
    "toc = time.time()\n",
    "print('That took %fs' % (toc - tic))"
   ]
  },
  {
   "cell_type": "code",
   "execution_count": 17,
   "metadata": {
    "collapsed": true
   },
   "outputs": [
    {
     "name": "stdout",
     "output_type": "stream",
     "text": [
      "training accuracy: 0.100265\n",
      "validation accuracy: 0.087000\n"
     ]
    }
   ],
   "source": [
    "# Write the Softmax.predict function and evaluate the performance on both the\n",
    "# training and validation set\n",
    "y_train_pred = classifier.predict(X_train)\n",
    "print('training accuracy: %f' % (np.mean(y_train == y_train_pred), ))\n",
    "y_val_pred = classifier.predict(X_val)\n",
    "print('validation accuracy: %f' % (np.mean(y_val == y_val_pred), ))"
   ]
  },
  {
   "cell_type": "code",
   "execution_count": 18,
   "metadata": {
    "collapsed": true
   },
   "outputs": [
    {
     "data": {
      "image/png": "[encoded data removed]",
      "text/plain": [
       "<Figure size 720x576 with 1 Axes>"
      ]
     },
     "metadata": {
      "needs_background": "light"
     },
     "output_type": "display_data"
    }
   ],
   "source": [
    "# A useful debugging strategy is to plot the loss as a function of\n",
    "# iteration number:\n",
    "plt.plot(loss_hist)\n",
    "plt.xlabel('Iteration number')\n",
    "plt.ylabel('Loss value')\n",
    "plt.show()"
   ]
  },
  {
   "cell_type": "code",
   "execution_count": 19,
   "metadata": {
    "collapsed": true
   },
   "outputs": [
    {
     "name": "stdout",
     "output_type": "stream",
     "text": [
      "softmax on raw pixels final test set accuracy: 10.30\n"
     ]
    }
   ],
   "source": [
    "# evaluate on test set\n",
    "# Evaluate the best softmax on test set\n",
    "y_test_pred = classifier.predict(X_test)\n",
    "test_accuracy = np.mean(y_test == y_test_pred)\n",
    "print('softmax on raw pixels final test set accuracy: %.2f' % (100*test_accuracy, ))"
   ]
  }
 ],
 "metadata": {
  "anaconda-cloud": {},
  "kernelspec": {
   "display_name": "Python 3",
   "language": "python",
   "name": "python3"
  },
  "language_info": {
   "codemirror_mode": {
    "name": "ipython",
    "version": 3
   },
   "file_extension": ".py",
   "mimetype": "text/x-python",
   "name": "python",
   "nbconvert_exporter": "python",
   "pygments_lexer": "ipython3",
   "version": "3.7.6"
  }
 },
 "nbformat": 4,
 "nbformat_minor": 1
}
